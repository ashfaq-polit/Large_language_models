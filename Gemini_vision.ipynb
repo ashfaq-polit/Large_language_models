{
  "nbformat": 4,
  "nbformat_minor": 0,
  "metadata": {
    "colab": {
      "provenance": [],
      "gpuType": "T4"
    },
    "kernelspec": {
      "name": "python3",
      "display_name": "Python 3"
    },
    "language_info": {
      "name": "python"
    },
    "accelerator": "GPU"
  },
  "cells": [
    {
      "cell_type": "code",
      "source": [
        "# Install Google's Gemini Libraries\n",
        "!pip install -q -U google-generativeai\n",
        "\n",
        "\n",
        "#Import libraries\n",
        "import google.generativeai as genai\n",
        "from google.colab import userdata\n",
        "from IPython.display import display\n",
        "from IPython.display import Markdown\n",
        "import PIL.Image\n"
      ],
      "metadata": {
        "id": "rFblZbOG_8SX"
      },
      "execution_count": 1,
      "outputs": []
    },
    {
      "cell_type": "code",
      "source": [
        "# configure api key and initialise model\n",
        "from google.colab import userdata\n",
        "import os\n",
        "\n",
        "\n",
        "if \"GOOGLE_API_KEY\" not in os.environ:\n",
        "    os.environ[\"GOOGLE_API_KEY\"] = userdata.get('Gemini')\n",
        "\n",
        "genai.configure(api_key=os.environ['GOOGLE_API_KEY'])\n",
        "\n",
        "\n",
        "for m in genai.list_models():\n",
        "  if 'generateContent' in m.supported_generation_methods:\n",
        "    print(m.name)"
      ],
      "metadata": {
        "colab": {
          "base_uri": "https://localhost:8080/",
          "height": 481
        },
        "id": "ZOzVLztouveb",
        "outputId": "161c9b4e-3c66-4de1-9bc3-422d64948aac"
      },
      "execution_count": 2,
      "outputs": [
        {
          "output_type": "stream",
          "name": "stdout",
          "text": [
            "models/gemini-1.0-pro-latest\n",
            "models/gemini-1.0-pro\n",
            "models/gemini-pro\n",
            "models/gemini-1.0-pro-001\n",
            "models/gemini-1.0-pro-vision-latest\n",
            "models/gemini-pro-vision\n",
            "models/gemini-1.5-pro-latest\n",
            "models/gemini-1.5-pro-001\n",
            "models/gemini-1.5-pro-002\n",
            "models/gemini-1.5-pro\n",
            "models/gemini-1.5-pro-exp-0801\n",
            "models/gemini-1.5-pro-exp-0827\n",
            "models/gemini-1.5-flash-latest\n",
            "models/gemini-1.5-flash-001\n",
            "models/gemini-1.5-flash-001-tuning\n",
            "models/gemini-1.5-flash\n",
            "models/gemini-1.5-flash-exp-0827\n",
            "models/gemini-1.5-flash-002\n",
            "models/gemini-1.5-flash-8b\n",
            "models/gemini-1.5-flash-8b-001\n",
            "models/gemini-1.5-flash-8b-latest\n",
            "models/gemini-1.5-flash-8b-exp-0827\n",
            "models/gemini-1.5-flash-8b-exp-0924\n",
            "models/learnlm-1.5-pro-experimental\n",
            "models/gemini-exp-1114\n",
            "models/gemini-exp-1121\n"
          ]
        }
      ]
    },
    {
      "cell_type": "code",
      "source": [
        "# Directly Calling API\n",
        "\n",
        "image = PIL.Image.open('Gemini_image.png')\n",
        "vision_model = genai.GenerativeModel('gemini-1.5-flash-latest')\n",
        "response = vision_model.generate_content([\"What was the budget in the year 2021-22?\",image])\n",
        "\n",
        "print(response.text)"
      ],
      "metadata": {
        "colab": {
          "base_uri": "https://localhost:8080/",
          "height": 35
        },
        "id": "cQ45oFxxu8YH",
        "outputId": "9cfe8770-6ad3-4a70-eb24-6cc2e5317b8e"
      },
      "execution_count": 5,
      "outputs": [
        {
          "output_type": "stream",
          "name": "stdout",
          "text": [
            "The budget in the year 2021-22 was Rs. 50,011 crore.\n"
          ]
        }
      ]
    },
    {
      "cell_type": "code",
      "source": [
        "response = vision_model.generate_content([\"Convert the chart in image into data in json format?\",image])\n",
        "print(response.text)"
      ],
      "metadata": {
        "colab": {
          "base_uri": "https://localhost:8080/",
          "height": 481
        },
        "id": "jP76V2OpvhrS",
        "outputId": "4be0c620-6b5f-4d45-de8a-c437fe6d83b7"
      },
      "execution_count": 6,
      "outputs": [
        {
          "output_type": "stream",
          "name": "stdout",
          "text": [
            "```json\n",
            "{\n",
            "  \"yearWiseBudgetAllocation\": [\n",
            "    {\n",
            "      \"year\": \"2019-20\",\n",
            "      \"budget\": 10001\n",
            "    },\n",
            "    {\n",
            "      \"year\": \"2020-21\",\n",
            "      \"budget\": 11500\n",
            "    },\n",
            "    {\n",
            "      \"year\": \"2021-22\",\n",
            "      \"budget\": 50011\n",
            "    },\n",
            "    {\n",
            "      \"year\": \"2022-23\",\n",
            "      \"budget\": 60000\n",
            "    },\n",
            "    {\n",
            "      \"year\": \"2023-24\",\n",
            "      \"budget\": 70000\n",
            "    }\n",
            "  ]\n",
            "}\n",
            "```\n"
          ]
        }
      ]
    }
  ]
}